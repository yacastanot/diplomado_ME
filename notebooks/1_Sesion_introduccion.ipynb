{
  "cells": [
    {
      "cell_type": "markdown",
      "metadata": {
        "id": "6rbRxEihXJqC"
      },
      "source": [
        "#***Análisis de Datos y Big data***\n",
        "\n",
        "## ***Universidad Central***\n",
        ">## **Dirección de Educación Continua.**\n",
        "\n",
        "\n",
        "\n",
        "![Imágen1](https://www.ucentral.edu.co/sites/default/files/logo_1.png)\n",
        "\n",
        "**Ver la presentación  [acá](https://github.com/jazaineam1/Diplomado_ucentral_ME/raw/main/Presentaciones/1%20Sesion.pptx)**\n",
        "\n",
        "##**Pensamiento algorítmico**"
      ]
    },
    {
      "cell_type": "markdown",
      "metadata": {
        "id": "G276XmfAbfbK"
      },
      "source": [
        "## Elementos básicos de Python"
      ]
    },
    {
      "cell_type": "markdown",
      "metadata": {
        "id": "B8hAJPjrezgj"
      },
      "source": [
        "### Sintaxis básica"
      ]
    },
    {
      "cell_type": "markdown",
      "metadata": {
        "id": "H7Jh6uM9blQW"
      },
      "source": [
        "Recorderis: cuando queremos ejecutar algo en colab, presionamos el botón de reproducir/play a la izquierda. Intentemos con esta operación para mostrar algo en la pantalla:"
      ]
    },
    {
      "cell_type": "code",
      "execution_count": null,
      "metadata": {
        "id": "vKlup6L6Wgcd",
        "outputId": "dc6e4f4d-3c39-4daf-a594-92db3a77e673"
      },
      "outputs": [
        {
          "name": "stdout",
          "output_type": "stream",
          "text": [
            "Así es como mostramos algo en la pantalla!holsldmslndslknflsdkmflksdmfk\n"
          ]
        }
      ],
      "source": [
        "print(\"Así es como mostramos algo en la pantalla!holsldmslndslknflsdkmflksdmfk\")"
      ]
    },
    {
      "cell_type": "markdown",
      "metadata": {
        "id": "Ptf4nQZvb_VY"
      },
      "source": [
        "En Python, los grupos de código se definen con dos puntos. La indentación es MUY importante, porque define los grupos:"
      ]
    },
    {
      "cell_type": "code",
      "execution_count": null,
      "metadata": {
        "id": "JTimmplab-qg"
      },
      "outputs": [],
      "source": [
        "if 5 > 2:\n",
        "  print(\"Este programa es sensato\")\n",
        "  print(\"Todo este código se corre porque 5 es mayor a 2\")\n",
        "  print(\"Todo esto hace parte del mismo grupo de código por la indentación a la izquierda\")\n",
        "\n",
        "if 5 < 2:\n",
        "  print(\"Este programa está loco\")\n",
        "  print(\"Todo esto no se corre porque 5 no es menor a 2\")\n",
        "  print(\"El grupito en entero de código no se corre\")"
      ]
    },
    {
      "cell_type": "markdown",
      "metadata": {
        "id": "oJE2Np8ZdlpH"
      },
      "source": [
        "Si escribimos inapropiadamente, por ejemplo, olvidamos indicar el grupo de código con indentación, Python nos devuelve un error (noormal):"
      ]
    },
    {
      "cell_type": "code",
      "execution_count": null,
      "metadata": {
        "id": "J4tzdZ9jeUO_"
      },
      "outputs": [],
      "source": [
        "if 5 < 2:\n",
        "print(\"Todo bien todo bien\")"
      ]
    },
    {
      "cell_type": "markdown",
      "metadata": {
        "id": "5Wdf7ehTebfS"
      },
      "source": [
        "Los errores se leen de abajo hacia arriba.\n",
        "Este es un **IndentationError**, es decir, un error de indentación.\n",
        "\n",
        "El tipo de error nos da pistas sobre en qué nos equivocamos."
      ]
    },
    {
      "cell_type": "markdown",
      "metadata": {
        "id": "vb0ylmuaep01"
      },
      "source": [
        "**Ejercicio:**\n",
        "\n",
        "Corregir el código de la celda anterior, para que ya no saque error."
      ]
    },
    {
      "cell_type": "markdown",
      "metadata": {
        "id": "1rYy14_HfBjn"
      },
      "source": [
        "En Python también podemos hacer comentarios con #.\n",
        "\n",
        "Los comentarios no se ejecutan así estén en el código.\n",
        "\n",
        "A veces podemos probar varias líneas de código sin borrarlas, comentándola."
      ]
    },
    {
      "cell_type": "code",
      "execution_count": null,
      "metadata": {
        "id": "87kBJafZfkQU"
      },
      "outputs": [],
      "source": [
        "# Aquí no pasó nada"
      ]
    },
    {
      "cell_type": "markdown",
      "metadata": {
        "id": "l6kaaHn0fmUI"
      },
      "source": [
        "**Ejercicio**"
      ]
    },
    {
      "cell_type": "code",
      "execution_count": null,
      "metadata": {
        "id": "ttsj3FNDfOKF"
      },
      "outputs": [],
      "source": [
        "print('Probemos a ver si este código sirve, si no sirve, volvamos esta línea un comentario)\n",
        "#print(\"Si no sirve, podemos probar este quitando el comentario a la izquierda\")"
      ]
    },
    {
      "cell_type": "markdown",
      "metadata": {
        "id": "H7FU7XJBj28u"
      },
      "source": [
        "En Python existen valores lógicos representados con True y False. Se escriben con primera letra mayúscula:"
      ]
    },
    {
      "cell_type": "code",
      "execution_count": null,
      "metadata": {
        "id": "v78ciTMzj7vo"
      },
      "outputs": [],
      "source": [
        "# Se colorean en azulito porque son palabras reservadas del lenguaje\n",
        "True\n",
        "False"
      ]
    },
    {
      "cell_type": "markdown",
      "metadata": {
        "id": "duSoQwXmkBHj"
      },
      "source": [
        "Si hacemos una pregunta, python nos devuelve un valor lógico. Los llamamos **Booleanos**:"
      ]
    },
    {
      "cell_type": "code",
      "execution_count": null,
      "metadata": {
        "id": "uaweVcTMkAjf"
      },
      "outputs": [],
      "source": [
        "5 < 2"
      ]
    },
    {
      "cell_type": "markdown",
      "metadata": {
        "id": "kgZHDBUxe1U4"
      },
      "source": [
        "### Almacenamiento de información"
      ]
    },
    {
      "cell_type": "markdown",
      "metadata": {
        "id": "qKs9VyWxhmWG"
      },
      "source": [
        "#### Variables"
      ]
    },
    {
      "cell_type": "markdown",
      "metadata": {
        "id": "tR77gAltfvOc"
      },
      "source": [
        "En Python, las variables las indicamos con asignación \"=\"\n",
        "\n",
        "Es útil que los nombres de las variables sean descriptivos para un código más legible"
      ]
    },
    {
      "cell_type": "code",
      "execution_count": null,
      "metadata": {
        "id": "rL49eK_-fupU"
      },
      "outputs": [],
      "source": [
        "eadadDeJuan = 42"
      ]
    },
    {
      "cell_type": "markdown",
      "metadata": {
        "id": "zl_O3B_MgA1S"
      },
      "source": [
        "Las variables pueden contener texto"
      ]
    },
    {
      "cell_type": "code",
      "execution_count": null,
      "metadata": {
        "id": "L-bcpr90gC6d"
      },
      "outputs": [],
      "source": [
        "nombreDeLaCiudad = 'Bogotá'\n",
        "colorFavorito = \"Verde\""
      ]
    },
    {
      "cell_type": "markdown",
      "metadata": {
        "id": "nCuBY3uHgIIU"
      },
      "source": [
        "A Python le da igual si usamos comillas simples o dobles. Algunos lenguajes son más celosos."
      ]
    },
    {
      "cell_type": "code",
      "execution_count": null,
      "metadata": {
        "id": "VGowMAAEgx78"
      },
      "outputs": [],
      "source": [
        "alturaDeLaPersona = '160'\n",
        "alturaDeLaSilla = '30'"
      ]
    },
    {
      "cell_type": "markdown",
      "metadata": {
        "id": "mV5Hi7ykhCT0"
      },
      "source": [
        "**Ejercicio:** Sume la altura de la persona y de la silla para ver cuánto es la altura cuando la persona se para sobre la silla:"
      ]
    },
    {
      "cell_type": "code",
      "execution_count": null,
      "metadata": {
        "id": "LwP1EOnzhLnd"
      },
      "outputs": [],
      "source": [
        "# Aquí podemos intentar mostrar en la pantalla la alturaDeLaPersona + alturaDeLaSilla\n"
      ]
    },
    {
      "cell_type": "markdown",
      "metadata": {
        "id": "aqzXGYSwkyI-"
      },
      "source": [
        "Para hacer una pregunta sobre una variable, usamos la operación lógica \"==\""
      ]
    },
    {
      "cell_type": "code",
      "execution_count": null,
      "metadata": {
        "id": "jaJFfOoXk2f5"
      },
      "outputs": [],
      "source": [
        "alturaDeLaPersona == 160"
      ]
    },
    {
      "cell_type": "markdown",
      "metadata": {
        "id": "-hxJNICQk8Wj"
      },
      "source": [
        "Si usamos una variable que no existe, nos va a salir un error:"
      ]
    },
    {
      "cell_type": "code",
      "execution_count": null,
      "metadata": {
        "id": "Xq3nnhlAk7kl"
      },
      "outputs": [],
      "source": [
        "estaEsUnaVariableNueva + 2"
      ]
    },
    {
      "cell_type": "markdown",
      "metadata": {
        "id": "x2isWCtlhjHs"
      },
      "source": [
        "#### Grupos de información"
      ]
    },
    {
      "cell_type": "markdown",
      "metadata": {
        "id": "lmJmNJbbhq8D"
      },
      "source": [
        "Las listas se definen con llaves"
      ]
    },
    {
      "cell_type": "code",
      "execution_count": null,
      "metadata": {
        "id": "KT0zzJyihtTV"
      },
      "outputs": [],
      "source": [
        "nombresDeLosNinios = ['Juan', 'María', 'Ramiro', 'Marta']\n",
        "print(nombresDeLosNinios)"
      ]
    },
    {
      "cell_type": "markdown",
      "metadata": {
        "id": "_lczYYsQiGWS"
      },
      "source": [
        "Podemos hacer cosas como agregarle elementos a la lista"
      ]
    },
    {
      "cell_type": "code",
      "execution_count": null,
      "metadata": {
        "id": "KZQ1GzgPiIh4"
      },
      "outputs": [],
      "source": [
        "nombresDeLosNinios.append('Caro')\n",
        "print(nombresDeLosNinios)\n",
        "# Si corremos esta celda varias veces, Caro se agrega varias veces"
      ]
    },
    {
      "cell_type": "markdown",
      "metadata": {
        "id": "LJtsT3ksiZTi"
      },
      "source": [
        "Podemos consultar el elemento en la posición TAL:"
      ]
    },
    {
      "cell_type": "code",
      "execution_count": null,
      "metadata": {
        "id": "YAm13zLoicTl"
      },
      "outputs": [],
      "source": [
        "nombresDeLosNinios[3]"
      ]
    },
    {
      "cell_type": "markdown",
      "metadata": {
        "id": "pCJIFeN9ifrb"
      },
      "source": [
        "**¡Python cuenta desde cero!**"
      ]
    },
    {
      "cell_type": "markdown",
      "metadata": {
        "id": "XCFuehJwh0cT"
      },
      "source": [
        "Las tuplas están ordenadas y no se pueden modificar"
      ]
    },
    {
      "cell_type": "code",
      "execution_count": null,
      "metadata": {
        "id": "dsnmInZ1h_BP"
      },
      "outputs": [],
      "source": [
        "coordenadas = (143,234)\n",
        "print(coordenadas)"
      ]
    },
    {
      "cell_type": "markdown",
      "metadata": {
        "id": "z2fa7AfCinDB"
      },
      "source": [
        "Podemos consultar valores dentro de la tupla"
      ]
    },
    {
      "cell_type": "code",
      "execution_count": null,
      "metadata": {
        "id": "etXda570ikL-"
      },
      "outputs": [],
      "source": [
        "coordenadas[0]"
      ]
    },
    {
      "cell_type": "markdown",
      "metadata": {
        "id": "uuCVyR2fiEok"
      },
      "source": [
        "Los conjuntos no tienen orden:"
      ]
    },
    {
      "cell_type": "code",
      "execution_count": null,
      "metadata": {
        "id": "Dcm0faMGiqIi"
      },
      "outputs": [],
      "source": [
        "conjuntoDeObras = {'Las Meninas', 'El Guernica', 'La noche estrellada'}\n",
        "print(conjuntoDeObras)"
      ]
    },
    {
      "cell_type": "code",
      "execution_count": null,
      "metadata": {
        "id": "GlOKVJa_i5ae"
      },
      "outputs": [],
      "source": [
        "# Intentemos ver el elemento en la posición 1 del conjunto:\n",
        "conjuntoDeObras[1]"
      ]
    },
    {
      "cell_type": "markdown",
      "metadata": {
        "id": "UPIpwGyRe5zB"
      },
      "source": [
        "## Paquetes"
      ]
    },
    {
      "cell_type": "markdown",
      "metadata": {
        "id": "NSrcQ4s3jLJj"
      },
      "source": [
        "Cuando queremos agregar \"operaciones básicas\" a nuestro lenguaje, podemos importar **paquetes**."
      ]
    },
    {
      "cell_type": "code",
      "execution_count": null,
      "metadata": {
        "id": "WjIYh1c7gYro"
      },
      "outputs": [],
      "source": [
        "import pandas as pd"
      ]
    },
    {
      "cell_type": "markdown",
      "metadata": {
        "id": "sZ4yroaFjUze"
      },
      "source": [
        "Ahora podemos usar todos los comandos para manejar datos que tiene Pandas:"
      ]
    },
    {
      "cell_type": "code",
      "execution_count": null,
      "metadata": {
        "id": "q52AhePbjgxh"
      },
      "outputs": [],
      "source": [
        "datos = pd.DataFrame(nombresDeLosNinios)\n",
        "datos"
      ]
    },
    {
      "cell_type": "markdown",
      "metadata": {
        "id": "KUVfmBZ5jrbB"
      },
      "source": [
        "**¡Ahora no es una lista!** sino un DataFrame de Pandas."
      ]
    },
    {
      "cell_type": "markdown",
      "metadata": {
        "id": "Po6dNKTygVN4"
      },
      "source": [
        "## Recapitulando\n",
        "En este cuadernillo vimos:\n",
        "\n",
        "\n",
        "*   Sintaxis básica de Python\n",
        "*   Variables\n",
        "*   Estructuras para grupos de información\n",
        "*   Importar paquetes como Pandas\n",
        "\n"
      ]
    },
    {
      "cell_type": "markdown",
      "metadata": {
        "id": "ncZc-r6q62XG"
      },
      "source": [
        "## **Puedes ver más**\n",
        "[Introducción a Colab](https://paiml.github.io/python_for_datascience/lessons/Lesson2_Python_For_Data_Science_Introduction_to_Colab.html)\n",
        "\n",
        "[Temas Básicos](https://paiml.github.io/python_for_datascience/lessons/Lesson3_Python_For_Data_Science_Basics.html)\n",
        "\n",
        "[Strings](https://paiml.github.io/python_for_datascience/lessons/Lesson4_Python_For_Data_Science_Strings.htmlhttps://)\n",
        "\n",
        "[Estructuras de datos](https://paiml.github.io/python_for_datascience/lessons/Lesson5_Python_For_Data_Science_Python_Data_structure.html)\n",
        "\n"
      ]
    },
    {
      "cell_type": "code",
      "execution_count": null,
      "metadata": {
        "id": "L_39fDgH7k2V"
      },
      "outputs": [],
      "source": []
    }
  ],
  "metadata": {
    "colab": {
      "provenance": []
    },
    "kernelspec": {
      "display_name": "base",
      "language": "python",
      "name": "python3"
    },
    "language_info": {
      "codemirror_mode": {
        "name": "ipython",
        "version": 3
      },
      "file_extension": ".py",
      "mimetype": "text/x-python",
      "name": "python",
      "nbconvert_exporter": "python",
      "pygments_lexer": "ipython3",
      "version": "3.9.12"
    }
  },
  "nbformat": 4,
  "nbformat_minor": 0
}